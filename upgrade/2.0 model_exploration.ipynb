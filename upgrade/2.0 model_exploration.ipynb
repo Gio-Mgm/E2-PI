{
 "cells": [
  {
   "cell_type": "code",
   "execution_count": 2,
   "metadata": {},
   "outputs": [],
   "source": [
    "import pandas as pd\n",
    "from sklearn.preprocessing import OneHotEncoder, StandardScaler\n",
    "from sklearn.model_selection import train_test_split\n",
    "from functions import import_data\n",
    "from sklearn.pipeline import Pipeline\n",
    "from sklearn.compose import ColumnTransformer\n",
    "from sklearn.ensemble import RandomForestRegressor\n",
    "from sklearn.preprocessing import OneHotEncoder\n",
    "from xgboost import XGBRegressor\n"
   ]
  },
  {
   "cell_type": "code",
   "execution_count": 3,
   "metadata": {},
   "outputs": [
    {
     "name": "stdout",
     "output_type": "stream",
     "text": [
      "Memory usage of dataframe is 0.075 MB\n",
      "Memory usage after optimization is: 0.04 MB\n",
      "Decreased by 49.7%\n"
     ]
    }
   ],
   "source": [
    "df = import_data(\"./data/02/cleaned_house_prices.csv\", \"Id\")"
   ]
  },
  {
   "cell_type": "code",
   "execution_count": null,
   "metadata": {},
   "outputs": [],
   "source": [
    "y = df['target']\n",
    "X = df.drop('target', axis=1)"
   ]
  },
  {
   "cell_type": "code",
   "execution_count": null,
   "metadata": {},
   "outputs": [],
   "source": [
    "from pycaret import\n"
   ]
  },
  {
   "cell_type": "code",
   "execution_count": 4,
   "metadata": {},
   "outputs": [
    {
     "data": {
      "text/plain": [
       "Index(['AgeBins', 'BldgType', 'GrLivArea', 'LotFrontage', 'LotArea',\n",
       "       'HasFence', 'Has2ndFloor', 'HasBasement', 'HasGarage', 'target'],\n",
       "      dtype='object')"
      ]
     },
     "execution_count": 4,
     "metadata": {},
     "output_type": "execute_result"
    }
   ],
   "source": [
    "df.columns"
   ]
  },
  {
   "cell_type": "code",
   "execution_count": null,
   "metadata": {},
   "outputs": [],
   "source": [
    "cat_cols = []\n",
    "num_cols = ['Base Liv Area', 'Garage Area', 'Gr Liv Area']\n",
    "y = df[\"SalePrice\"]\n",
    "X = df.drop(\"SalePrice\", axis=1)\n",
    "X_num = X[num_cols]"
   ]
  },
  {
   "cell_type": "code",
   "execution_count": null,
   "metadata": {},
   "outputs": [],
   "source": [
    "ohe = OneHotEncoder(sparse=False)\n",
    "ohe.fit(X[cat_cols])\n",
    "X_trans = ohe.transform(X[cat_cols])\n",
    "X_trans = pd.DataFrame(X_trans, columns=ohe.get_feature_names_out())\n",
    "X_trans.head()\n",
    "X = pd.concat([X_trans, X_num], axis=1)\n",
    "X.head()"
   ]
  },
  {
   "cell_type": "code",
   "execution_count": null,
   "metadata": {},
   "outputs": [],
   "source": [
    "import numpy as np\n",
    "train, val, test = np.split(df.sample(frac=1), [int(.6*len(df)), int(.8*len(df))])\n",
    "print(train.shape, val.shape, test.shape)"
   ]
  },
  {
   "cell_type": "code",
   "execution_count": null,
   "metadata": {},
   "outputs": [],
   "source": [
    "x_cols = cat_cols + num_cols\n",
    "y_col = ['SalePrice']\n",
    "\n",
    "train_x = train[x_cols]\n",
    "train_y = np.ravel(train[y_col])\n",
    "val_x = val[x_cols]\n",
    "val_y = np.ravel(val[y_col])\n",
    "test_x = test[x_cols]\n",
    "test_y = np.ravel(test[y_col])"
   ]
  },
  {
   "cell_type": "code",
   "execution_count": null,
   "metadata": {},
   "outputs": [],
   "source": [
    "categorical_pipeline = Pipeline(steps=[\n",
    "    ('one-hot', OneHotEncoder(handle_unknown='ignore', sparse=False))\n",
    "])\n",
    "\n",
    "full_processor = ColumnTransformer(transformers=[\n",
    "    ('category', categorical_pipeline, cat_cols)\n",
    "])\n",
    "\n",
    "xgbrfr = XGBRegressor()\n",
    "\n",
    "pipe = Pipeline(steps=[\n",
    "    ('preprocess', full_processor),\n",
    "    ('model', xgbrfr)\n",
    "])"
   ]
  },
  {
   "cell_type": "code",
   "execution_count": null,
   "metadata": {},
   "outputs": [],
   "source": [
    "import time\n",
    "from sklearn.experimental import enable_halving_search_cv #noqa\n",
    "from sklearn.model_selection import HalvingRandomSearchCV\n",
    "from xgboost import XGBRFRegressor\n",
    "\n",
    "\n",
    "xgb.set_config(verbosity=0)\n",
    "params = {\n",
    "    'model__n_estimators': [100, 200, 300],\n",
    "    'model__min_child_weight': [1, 3, 5, 7, 9],\n",
    "    'model__gamma': [.1*i for i in range(10)],\n",
    "    'model__subsample': [i/10 for i in range(7, 10)],\n",
    "    'model__colsample_bytree': [i/10 for i in range(7, 10)],\n",
    "    'model__max_depth': [3, 5, 7, 9],\n",
    "    'model__reg_alpha': [1e-5*10**i for i in range(6)],\n",
    "    'model__reg_lambda': [1e-5*10**i for i in range(6)],\n",
    "    'model__booster': ['gbtree', \"dart\", \"gblinear\"],\n",
    "    'model__learning_rate': [1e-1*i for i in range(3)],\n",
    "}\n",
    "\n",
    "hg = HalvingRandomSearchCV(\n",
    "    estimator=pipe,\n",
    "    resource='n_samples',\n",
    "    param_distributions=params, \n",
    "    cv=10, \n",
    "    min_resources=50,\n",
    "    verbose=10, factor=1.01,\n",
    "    random_state=888,\n",
    "    scoring=\"neg_mean_absolute_error\",\n",
    "    return_train_score=True,\n",
    "    aggressive_elimination=True\n",
    ")\n",
    "\n",
    "start = time.time()\n",
    "hg.fit(train_x, train_y)\n",
    "print(\"HalvingRandomSearchCV took %.2f seconds\"\n",
    "      \" parameter settings.\" % ((time.time() - start)))"
   ]
  },
  {
   "cell_type": "code",
   "execution_count": 2,
   "metadata": {},
   "outputs": [
    {
     "ename": "NameError",
     "evalue": "name 'import_data' is not defined",
     "output_type": "error",
     "traceback": [
      "\u001b[0;31m---------------------------------------------------------------------------\u001b[0m",
      "\u001b[0;31mNameError\u001b[0m                                 Traceback (most recent call last)",
      "\u001b[1;32m/home/gio/Dev/Projet_E2_P1/upgrade/2.0 model_exploration.ipynb Cellule 4\u001b[0m in \u001b[0;36m<cell line: 1>\u001b[0;34m()\u001b[0m\n\u001b[0;32m----> <a href='vscode-notebook-cell:/home/gio/Dev/Projet_E2_P1/upgrade/2.0%20model_exploration.ipynb#W1sZmlsZQ%3D%3D?line=0'>1</a>\u001b[0m df \u001b[39m=\u001b[39m import_data(\u001b[39m\"\u001b[39m\u001b[39m./data/02/cleaned_house_prices.csv\u001b[39m\u001b[39m\"\u001b[39m, \u001b[39m\"\u001b[39m\u001b[39mId\u001b[39m\u001b[39m\"\u001b[39m)\n",
      "\u001b[0;31mNameError\u001b[0m: name 'import_data' is not defined"
     ]
    }
   ],
   "source": []
  },
  {
   "cell_type": "code",
   "execution_count": null,
   "metadata": {},
   "outputs": [],
   "source": [
    "import pyca"
   ]
  },
  {
   "cell_type": "code",
   "execution_count": 24,
   "metadata": {},
   "outputs": [
    {
     "name": "stdout",
     "output_type": "stream",
     "text": [
      "<class 'pandas.core.frame.DataFrame'>\n",
      "Int64Index: 1313 entries, 1 to 1460\n",
      "Data columns (total 10 columns):\n",
      " #   Column       Non-Null Count  Dtype   \n",
      "---  ------       --------------  -----   \n",
      " 0   AgeBins      1313 non-null   int8    \n",
      " 1   BldgType     1313 non-null   category\n",
      " 2   GrLivArea    1313 non-null   int16   \n",
      " 3   LotFrontage  1313 non-null   int16   \n",
      " 4   LotArea      1313 non-null   int32   \n",
      " 5   HasFence     1313 non-null   float16 \n",
      " 6   Has2ndFloor  1313 non-null   float16 \n",
      " 7   HasBasement  1313 non-null   float16 \n",
      " 8   HasGarage    1313 non-null   float16 \n",
      " 9   target       1313 non-null   int32   \n",
      "dtypes: category(1), float16(4), int16(2), int32(2), int8(1)\n",
      "memory usage: 38.7 KB\n"
     ]
    }
   ],
   "source": [
    "df.info()"
   ]
  },
  {
   "cell_type": "code",
   "execution_count": 1,
   "metadata": {},
   "outputs": [
    {
     "ename": "NameError",
     "evalue": "name 'df' is not defined",
     "output_type": "error",
     "traceback": [
      "\u001b[0;31m---------------------------------------------------------------------------\u001b[0m",
      "\u001b[0;31mNameError\u001b[0m                                 Traceback (most recent call last)",
      "\u001b[1;32m/home/gio/Dev/Projet_E2_P1/upgrade/2.0 model_exploration.ipynb Cellule 7\u001b[0m in \u001b[0;36m<cell line: 1>\u001b[0;34m()\u001b[0m\n\u001b[0;32m----> <a href='vscode-notebook-cell:/home/gio/Dev/Projet_E2_P1/upgrade/2.0%20model_exploration.ipynb#X23sZmlsZQ%3D%3D?line=0'>1</a>\u001b[0m df\u001b[39m.\u001b[39mcolumns\n",
      "\u001b[0;31mNameError\u001b[0m: name 'df' is not defined"
     ]
    }
   ],
   "source": [
    "df.columns"
   ]
  },
  {
   "cell_type": "code",
   "execution_count": 28,
   "metadata": {},
   "outputs": [],
   "source": [
    "num_cols = [\"GrLivArea\", \"LotFrontage\", \"LotArea\"]"
   ]
  },
  {
   "cell_type": "code",
   "execution_count": 29,
   "metadata": {},
   "outputs": [
    {
     "ename": "ValueError",
     "evalue": "Columns must be same length as key",
     "output_type": "error",
     "traceback": [
      "\u001b[0;31m---------------------------------------------------------------------------\u001b[0m",
      "\u001b[0;31mValueError\u001b[0m                                Traceback (most recent call last)",
      "\u001b[1;32m/home/gio/Dev/Projet_E2_P1/upgrade/2.0 model_exploration.ipynb Cellule 9\u001b[0m in \u001b[0;36m<cell line: 2>\u001b[0;34m()\u001b[0m\n\u001b[1;32m      <a href='vscode-notebook-cell:/home/gio/Dev/Projet_E2_P1/upgrade/2.0%20model_exploration.ipynb#W3sZmlsZQ%3D%3D?line=0'>1</a>\u001b[0m ohe \u001b[39m=\u001b[39m OneHotEncoder()\n\u001b[0;32m----> <a href='vscode-notebook-cell:/home/gio/Dev/Projet_E2_P1/upgrade/2.0%20model_exploration.ipynb#W3sZmlsZQ%3D%3D?line=1'>2</a>\u001b[0m X_train[[\u001b[39m\"\u001b[39;49m\u001b[39mAgeBins\u001b[39;49m\u001b[39m\"\u001b[39;49m, \u001b[39m\"\u001b[39;49m\u001b[39mBldgType\u001b[39;49m\u001b[39m\"\u001b[39;49m]] \u001b[39m=\u001b[39m ohe\u001b[39m.\u001b[39mfit_transform(X_train[[\u001b[39m\"\u001b[39m\u001b[39mAgeBins\u001b[39m\u001b[39m\"\u001b[39m, \u001b[39m\"\u001b[39m\u001b[39mBldgType\u001b[39m\u001b[39m\"\u001b[39m]])\n\u001b[1;32m      <a href='vscode-notebook-cell:/home/gio/Dev/Projet_E2_P1/upgrade/2.0%20model_exploration.ipynb#W3sZmlsZQ%3D%3D?line=2'>3</a>\u001b[0m X_test[[\u001b[39m\"\u001b[39m\u001b[39mAgeBins\u001b[39m\u001b[39m\"\u001b[39m, \u001b[39m\"\u001b[39m\u001b[39mBldgType\u001b[39m\u001b[39m\"\u001b[39m]] \u001b[39m=\u001b[39m ohe\u001b[39m.\u001b[39mfit(X_test[[\u001b[39m\"\u001b[39m\u001b[39mAgeBins\u001b[39m\u001b[39m\"\u001b[39m, \u001b[39m\"\u001b[39m\u001b[39mBldgType\u001b[39m\u001b[39m\"\u001b[39m]])\n\u001b[1;32m      <a href='vscode-notebook-cell:/home/gio/Dev/Projet_E2_P1/upgrade/2.0%20model_exploration.ipynb#W3sZmlsZQ%3D%3D?line=4'>5</a>\u001b[0m scaler \u001b[39m=\u001b[39m StandardScaler()\n",
      "File \u001b[0;32m~/Dev/Projet_E2_P1/env/lib/python3.10/site-packages/pandas/core/frame.py:3643\u001b[0m, in \u001b[0;36mDataFrame.__setitem__\u001b[0;34m(self, key, value)\u001b[0m\n\u001b[1;32m   3641\u001b[0m     \u001b[39mself\u001b[39m\u001b[39m.\u001b[39m_setitem_frame(key, value)\n\u001b[1;32m   3642\u001b[0m \u001b[39melif\u001b[39;00m \u001b[39misinstance\u001b[39m(key, (Series, np\u001b[39m.\u001b[39mndarray, \u001b[39mlist\u001b[39m, Index)):\n\u001b[0;32m-> 3643\u001b[0m     \u001b[39mself\u001b[39;49m\u001b[39m.\u001b[39;49m_setitem_array(key, value)\n\u001b[1;32m   3644\u001b[0m \u001b[39melif\u001b[39;00m \u001b[39misinstance\u001b[39m(value, DataFrame):\n\u001b[1;32m   3645\u001b[0m     \u001b[39mself\u001b[39m\u001b[39m.\u001b[39m_set_item_frame_value(key, value)\n",
      "File \u001b[0;32m~/Dev/Projet_E2_P1/env/lib/python3.10/site-packages/pandas/core/frame.py:3699\u001b[0m, in \u001b[0;36mDataFrame._setitem_array\u001b[0;34m(self, key, value)\u001b[0m\n\u001b[1;32m   3696\u001b[0m \u001b[39melif\u001b[39;00m np\u001b[39m.\u001b[39mndim(value) \u001b[39m>\u001b[39m \u001b[39m1\u001b[39m:\n\u001b[1;32m   3697\u001b[0m     \u001b[39m# list of lists\u001b[39;00m\n\u001b[1;32m   3698\u001b[0m     value \u001b[39m=\u001b[39m DataFrame(value)\u001b[39m.\u001b[39mvalues\n\u001b[0;32m-> 3699\u001b[0m     \u001b[39mreturn\u001b[39;00m \u001b[39mself\u001b[39;49m\u001b[39m.\u001b[39;49m_setitem_array(key, value)\n\u001b[1;32m   3701\u001b[0m \u001b[39melse\u001b[39;00m:\n\u001b[1;32m   3702\u001b[0m     \u001b[39mself\u001b[39m\u001b[39m.\u001b[39m_iset_not_inplace(key, value)\n",
      "File \u001b[0;32m~/Dev/Projet_E2_P1/env/lib/python3.10/site-packages/pandas/core/frame.py:3694\u001b[0m, in \u001b[0;36mDataFrame._setitem_array\u001b[0;34m(self, key, value)\u001b[0m\n\u001b[1;32m   3691\u001b[0m         \u001b[39mself\u001b[39m[col] \u001b[39m=\u001b[39m value\n\u001b[1;32m   3693\u001b[0m \u001b[39melif\u001b[39;00m \u001b[39misinstance\u001b[39m(value, np\u001b[39m.\u001b[39mndarray) \u001b[39mand\u001b[39;00m value\u001b[39m.\u001b[39mndim \u001b[39m==\u001b[39m \u001b[39m2\u001b[39m:\n\u001b[0;32m-> 3694\u001b[0m     \u001b[39mself\u001b[39;49m\u001b[39m.\u001b[39;49m_iset_not_inplace(key, value)\n\u001b[1;32m   3696\u001b[0m \u001b[39melif\u001b[39;00m np\u001b[39m.\u001b[39mndim(value) \u001b[39m>\u001b[39m \u001b[39m1\u001b[39m:\n\u001b[1;32m   3697\u001b[0m     \u001b[39m# list of lists\u001b[39;00m\n\u001b[1;32m   3698\u001b[0m     value \u001b[39m=\u001b[39m DataFrame(value)\u001b[39m.\u001b[39mvalues\n",
      "File \u001b[0;32m~/Dev/Projet_E2_P1/env/lib/python3.10/site-packages/pandas/core/frame.py:3721\u001b[0m, in \u001b[0;36mDataFrame._iset_not_inplace\u001b[0;34m(self, key, value)\u001b[0m\n\u001b[1;32m   3719\u001b[0m \u001b[39mif\u001b[39;00m \u001b[39mself\u001b[39m\u001b[39m.\u001b[39mcolumns\u001b[39m.\u001b[39mis_unique:\n\u001b[1;32m   3720\u001b[0m     \u001b[39mif\u001b[39;00m np\u001b[39m.\u001b[39mshape(value)[\u001b[39m-\u001b[39m\u001b[39m1\u001b[39m] \u001b[39m!=\u001b[39m \u001b[39mlen\u001b[39m(key):\n\u001b[0;32m-> 3721\u001b[0m         \u001b[39mraise\u001b[39;00m \u001b[39mValueError\u001b[39;00m(\u001b[39m\"\u001b[39m\u001b[39mColumns must be same length as key\u001b[39m\u001b[39m\"\u001b[39m)\n\u001b[1;32m   3723\u001b[0m     \u001b[39mfor\u001b[39;00m i, col \u001b[39min\u001b[39;00m \u001b[39menumerate\u001b[39m(key):\n\u001b[1;32m   3724\u001b[0m         \u001b[39mself\u001b[39m[col] \u001b[39m=\u001b[39m igetitem(value, i)\n",
      "\u001b[0;31mValueError\u001b[0m: Columns must be same length as key"
     ]
    }
   ],
   "source": [
    "ohe = OneHotEncoder()\n",
    "X_out= ohe.fit_transform(X_train[[\"AgeBins\", \"BldgType\"]])\n",
    "X_test[[\"AgeBins\", \"BldgType\"]] = ohe.fit(X_test[[\"AgeBins\", \"BldgType\"]])\n",
    "\n",
    "scaler = StandardScaler()\n",
    "X_train[num_cols] = scaler.fit_transform(X_train[num_cols])\n",
    "X_test[num_cols] = scaler.fit(X_test[num_cols])\n"
   ]
  },
  {
   "cell_type": "code",
   "execution_count": null,
   "metadata": {},
   "outputs": [],
   "source": [
    "dtrain = lgb.Dataset(X_train, label=y_train)\n",
    "dvalid = lgb.Dataset(X_test, label=y_test)"
   ]
  },
  {
   "cell_type": "code",
   "execution_count": null,
   "metadata": {},
   "outputs": [],
   "source": [
    "callbacks = [\n",
    "    lgb.reset_parameter(lambda x: x * 0.99),\n",
    "    lgb.early_stopping(10)\n",
    "]"
   ]
  },
  {
   "cell_type": "code",
   "execution_count": null,
   "metadata": {},
   "outputs": [],
   "source": [
    "model = lgb.LGBMRegressor(\n",
    "    learning_rate=1e-4,\n",
    "    n_estimators=1000,\n",
    "    callbacks=callbacks,\n",
    "    objective=\"regression\",\n",
    "    metrics=['rmse']\n",
    ")\n",
    "\n",
    "model.fit(dtrain)"
   ]
  }
 ],
 "metadata": {
  "kernelspec": {
   "display_name": "Python 3.10.4 ('venv': venv)",
   "language": "python",
   "name": "python3"
  },
  "language_info": {
   "codemirror_mode": {
    "name": "ipython",
    "version": 3
   },
   "file_extension": ".py",
   "mimetype": "text/x-python",
   "name": "python",
   "nbconvert_exporter": "python",
   "pygments_lexer": "ipython3",
   "version": "3.10.4"
  },
  "orig_nbformat": 4,
  "vscode": {
   "interpreter": {
    "hash": "ee0f7925523a4c1e710fca7b7faae2fd7f30997b59d3b9d6ea23635ba1816319"
   }
  }
 },
 "nbformat": 4,
 "nbformat_minor": 2
}
